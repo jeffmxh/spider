{
 "cells": [
  {
   "cell_type": "code",
   "execution_count": 1,
   "metadata": {},
   "outputs": [],
   "source": [
    "import pandas as pd\n",
    "import pickle\n",
    "import re"
   ]
  },
  {
   "cell_type": "code",
   "execution_count": 2,
   "metadata": {},
   "outputs": [],
   "source": [
    "data1 = pd.read_excel('data/上市股票一览.xlsx')"
   ]
  },
  {
   "cell_type": "code",
   "execution_count": 3,
   "metadata": {},
   "outputs": [],
   "source": [
    "data2 = pd.read_excel('data/退市资料.xlsx')"
   ]
  },
  {
   "cell_type": "code",
   "execution_count": 4,
   "metadata": {},
   "outputs": [],
   "source": [
    "stock_dict = {}\n",
    "\n",
    "stock1_code = list(data1.iloc[:, 0])\n",
    "stock1_name = list(data1.iloc[:, 1])\n",
    "\n",
    "for x,y in zip(stock1_code, stock1_name):\n",
    "    code = re.sub('\\.[A-Za-z]{2}$', '', str(x))\n",
    "    stock_dict[code] = y\n",
    "    \n",
    "stock2_code = list(data2.iloc[:, 0])\n",
    "stock2_name = list(data2.iloc[:, 1])\n",
    "\n",
    "for x,y in zip(stock2_code, stock2_name):\n",
    "    code = re.sub('\\.[A-Za-z]{2}$', '', str(x))\n",
    "    stock_dict[code] = y"
   ]
  },
  {
   "cell_type": "code",
   "execution_count": 5,
   "metadata": {},
   "outputs": [
    {
     "data": {
      "text/plain": [
       "3667"
      ]
     },
     "execution_count": 5,
     "metadata": {},
     "output_type": "execute_result"
    }
   ],
   "source": [
    "len(stock_dict)"
   ]
  },
  {
   "cell_type": "code",
   "execution_count": 6,
   "metadata": {},
   "outputs": [],
   "source": [
    "pickle.dump(stock_dict, open('static/stock_dict.pickle', 'wb'))"
   ]
  },
  {
   "cell_type": "code",
   "execution_count": 7,
   "metadata": {},
   "outputs": [],
   "source": [
    "pickle.dump(set(stock_dict.keys()), open('static/stock_code.pickle', 'wb'))"
   ]
  }
 ],
 "metadata": {
  "kernelspec": {
   "display_name": "nlp-py3",
   "language": "python",
   "name": "nlp"
  },
  "language_info": {
   "codemirror_mode": {
    "name": "ipython",
    "version": 3
   },
   "file_extension": ".py",
   "mimetype": "text/x-python",
   "name": "python",
   "nbconvert_exporter": "python",
   "pygments_lexer": "ipython3",
   "version": "3.6.6"
  }
 },
 "nbformat": 4,
 "nbformat_minor": 2
}
