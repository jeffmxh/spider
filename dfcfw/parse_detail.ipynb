{
 "cells": [
  {
   "cell_type": "code",
   "execution_count": 1,
   "metadata": {},
   "outputs": [],
   "source": [
    "import json\n",
    "import os\n",
    "import random\n",
    "import re\n",
    "import requests\n",
    "import time\n",
    "import pickle"
   ]
  },
  {
   "cell_type": "code",
   "execution_count": 2,
   "metadata": {},
   "outputs": [],
   "source": [
    "from bs4 import BeautifulSoup\n",
    "from collections import namedtuple, defaultdict\n",
    "from core.get_logger import get_logger"
   ]
  },
  {
   "cell_type": "code",
   "execution_count": 3,
   "metadata": {},
   "outputs": [],
   "source": [
    "context_node = namedtuple('context_node', 'code title context')"
   ]
  },
  {
   "cell_type": "code",
   "execution_count": 4,
   "metadata": {},
   "outputs": [],
   "source": [
    "time_stamp = time.strftime('%Y%m%d',time.localtime(time.time()))"
   ]
  },
  {
   "cell_type": "code",
   "execution_count": 5,
   "metadata": {},
   "outputs": [],
   "source": [
    "logger = get_logger('spider_detail'+time_stamp)"
   ]
  },
  {
   "cell_type": "code",
   "execution_count": 6,
   "metadata": {},
   "outputs": [],
   "source": [
    "class stock_pack:\n",
    "    def __init__(self, data):\n",
    "        self.data = data\n",
    "        self.code = data['CDSY_SECUCODES'][0]['SECURITYCODE']\n",
    "        self.url = data['Url']\n",
    "        self.title = data['NOTICETITLE']\n",
    "        \n",
    "    def __str__(self):\n",
    "        return 'stock_code: {} \\ntitle: {}\\nnotice_url: {}'.format(self.code, self.title, self.url)"
   ]
  },
  {
   "cell_type": "code",
   "execution_count": 7,
   "metadata": {},
   "outputs": [],
   "source": [
    "def my_sleep():\n",
    "    time.sleep(1 + 0.5 * random.random())"
   ]
  },
  {
   "cell_type": "code",
   "execution_count": 8,
   "metadata": {},
   "outputs": [],
   "source": [
    "def parse_title(soup):\n",
    "    title = soup.find('div', attrs={'class': 'detail-header'}).get_text()\n",
    "    title = re.sub('(\\s|查看PDF原文)+', '----', title)\n",
    "    title = re.sub('^----|----$', '', title)\n",
    "    return title"
   ]
  },
  {
   "cell_type": "code",
   "execution_count": 9,
   "metadata": {},
   "outputs": [],
   "source": [
    "def parse_context(soup):\n",
    "    context = soup.find('div', attrs={'class': 'detail-body'}).get_text()\n",
    "    context = re.sub('^\\s+|\\s+$', '', context)\n",
    "    return context"
   ]
  },
  {
   "cell_type": "code",
   "execution_count": 10,
   "metadata": {},
   "outputs": [],
   "source": [
    "def parse_detail(code, url):\n",
    "    my_sleep()\n",
    "    headers = {'user-agent': 'Mozilla/5.0 (X11; Ubuntu; Linux x86_64; rv:54.0) Gecko/20100101 Firefox/54.0'}\n",
    "    r = requests.get(url, headers=headers)\n",
    "    soup = BeautifulSoup(r.text, \"html.parser\")\n",
    "    title = parse_title(soup)\n",
    "    context = parse_context(soup)\n",
    "    result = context_node(code, title, context)\n",
    "    return result"
   ]
  },
  {
   "cell_type": "code",
   "execution_count": 21,
   "metadata": {
    "scrolled": true
   },
   "outputs": [],
   "source": [
    "def get_ckpt():\n",
    "    files = os.listdir('output/')\n",
    "    files = [x for x in files if re.search('stock_data_all_\\d+.pickle', x)]\n",
    "    files = [(x, int(re.findall('stock_data_all_(\\d+).pickle', x)[0])) for x in files]\n",
    "    files = sorted(files, key=lambda x: -x[1])\n",
    "    file = files[0]\n",
    "    return file[0], file[1]"
   ]
  },
  {
   "cell_type": "code",
   "execution_count": 12,
   "metadata": {},
   "outputs": [],
   "source": [
    "stock_data = pickle.load(open('output/stock_3666.pickle', 'rb'))"
   ]
  },
  {
   "cell_type": "code",
   "execution_count": null,
   "metadata": {},
   "outputs": [
    {
     "name": "stderr",
     "output_type": "stream",
     "text": [
      "[INFO]2018-10-26 22:16:02,995 <ipython-input-23-15358868e394>[line:21]:Global step: 2001/3667 Local step: 1/7 stock_code: 002308 title: 威创股份:2017年年度报告\n",
      "[INFO]2018-10-26 22:16:05,150 <ipython-input-23-15358868e394>[line:21]:Global step: 2001/3667 Local step: 2/7 stock_code: 002308 title: 威创股份:2016年年度报告(更新后)\n",
      "[INFO]2018-10-26 22:16:06,916 <ipython-input-23-15358868e394>[line:21]:Global step: 2001/3667 Local step: 3/7 stock_code: 002308 title: 威创股份:2016年年度报告\n",
      "[INFO]2018-10-26 22:16:08,540 <ipython-input-23-15358868e394>[line:21]:Global step: 2001/3667 Local step: 4/7 stock_code: 002308 title: 威创股份:2015年年度报告\n",
      "[ERROR]2018-10-26 22:16:09,750 <ipython-input-23-15358868e394>[line:24]:Warning: Global step: 2001/3667 Local step: 5/7 stock_code: 002308 Failed!!\n",
      "[INFO]2018-10-26 22:16:11,274 <ipython-input-23-15358868e394>[line:21]:Global step: 2001/3667 Local step: 6/7 stock_code: 002308 title: 威创股份:2013年年度报告\n",
      "[INFO]2018-10-26 22:16:13,060 <ipython-input-23-15358868e394>[line:21]:Global step: 2001/3667 Local step: 7/7 stock_code: 002308 title: 威创股份:2012年年度报告\n",
      "[INFO]2018-10-26 22:16:14,869 <ipython-input-23-15358868e394>[line:21]:Global step: 2002/3667 Local step: 1/6 stock_code: 300223 title: 北京君正:2017年年度报告\n",
      "[INFO]2018-10-26 22:16:16,545 <ipython-input-23-15358868e394>[line:21]:Global step: 2002/3667 Local step: 2/6 stock_code: 300223 title: 北京君正:2016年年度报告\n",
      "[ERROR]2018-10-26 22:16:18,547 <ipython-input-23-15358868e394>[line:24]:Warning: Global step: 2002/3667 Local step: 3/6 stock_code: 300223 Failed!!\n"
     ]
    }
   ],
   "source": [
    "try:\n",
    "    current_ckpt, current_step = get_ckpt()\n",
    "    stock_data_all = defaultdict(list) #pickle.load(open(current_ckpt, 'rb'))\n",
    "except:\n",
    "    stock_data_all = defaultdict(list)\n",
    "    current_step = 0\n",
    "\n",
    "for global_step,(stock_code,stock_detail) in enumerate(stock_data.items()):\n",
    "    if global_step <= current_step:\n",
    "        continue\n",
    "    else:\n",
    "        for local_step,stock_node in enumerate(stock_detail):\n",
    "            try:\n",
    "                code = stock_node.code\n",
    "                title = stock_node.title\n",
    "                url = stock_node.url\n",
    "                detail_data = parse_detail(code, url)\n",
    "                temp = {'code': code, 'title': title, 'url': url, 'detail': detail_data}\n",
    "                stock_data_all[code].append(temp)\n",
    "                logger.info('Global step: {}/{} Local step: {}/{} stock_code: {} title: {}'.format(\n",
    "                    global_step+1, len(stock_data), local_step+1, len(stock_detail), code, title))\n",
    "            except:\n",
    "                logger.error('Warning: Global step: {}/{} Local step: {}/{} stock_code: {} Failed!!'.format(\n",
    "                    global_step+1, len(stock_data), local_step+1, len(stock_detail), code))\n",
    "        if (global_step+1) % 500 == 0:\n",
    "            pickle.dump(dict(stock_data_all), open('output/stock_data_all_{}.pickle'.format(global_step), 'wb'))\n",
    "            stock_data_all = defaultdict(list)"
   ]
  }
 ],
 "metadata": {
  "kernelspec": {
   "display_name": "nlp-py3",
   "language": "python",
   "name": "nlp"
  },
  "language_info": {
   "codemirror_mode": {
    "name": "ipython",
    "version": 3
   },
   "file_extension": ".py",
   "mimetype": "text/x-python",
   "name": "python",
   "nbconvert_exporter": "python",
   "pygments_lexer": "ipython3",
   "version": "3.6.6"
  }
 },
 "nbformat": 4,
 "nbformat_minor": 2
}
